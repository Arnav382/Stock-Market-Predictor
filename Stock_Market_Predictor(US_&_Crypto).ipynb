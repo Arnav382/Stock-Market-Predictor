{
  "nbformat": 4,
  "nbformat_minor": 0,
  "metadata": {
    "colab": {
      "name": "Stock Market Predictor(US & Crypto).ipynb",
      "provenance": []
    },
    "kernelspec": {
      "display_name": "Python 3",
      "name": "python3"
    },
    "language_info": {
      "name": "python"
    }
  },
  "cells": [
    {
      "cell_type": "markdown",
      "metadata": {
        "id": "8JCXTl2p14U8"
      },
      "source": [
        "# Steps Involved\n",
        "1. we will collect the stock data\n",
        "2. preprocess the data\n",
        "3. create a stacked LSTM model\n",
        "4. Predict the test data and plot the output\n",
        "5. Predict the future 30 days and plot the output"
      ]
    },
    {
      "cell_type": "code",
      "metadata": {
        "colab": {
          "base_uri": "https://localhost:8080/"
        },
        "id": "5aAMUpHZmAf3",
        "outputId": "3cdcb782-9358-4b6e-8a42-3bdfd0be43b9"
      },
      "source": [
        ""
      ],
      "execution_count": null,
      "outputs": [
        {
          "output_type": "stream",
          "text": [
            "Requirement already satisfied: quandl in /usr/local/lib/python3.7/dist-packages (3.6.1)\n",
            "Requirement already satisfied: pandas>=0.14 in /usr/local/lib/python3.7/dist-packages (from quandl) (1.1.5)\n",
            "Requirement already satisfied: inflection>=0.3.1 in /usr/local/lib/python3.7/dist-packages (from quandl) (0.5.1)\n",
            "Requirement already satisfied: six in /usr/local/lib/python3.7/dist-packages (from quandl) (1.15.0)\n",
            "Requirement already satisfied: more-itertools in /usr/local/lib/python3.7/dist-packages (from quandl) (8.7.0)\n",
            "Requirement already satisfied: python-dateutil in /usr/local/lib/python3.7/dist-packages (from quandl) (2.8.1)\n",
            "Requirement already satisfied: numpy>=1.8 in /usr/local/lib/python3.7/dist-packages (from quandl) (1.19.5)\n",
            "Requirement already satisfied: requests>=2.7.0 in /usr/local/lib/python3.7/dist-packages (from quandl) (2.23.0)\n",
            "Requirement already satisfied: pytz>=2017.2 in /usr/local/lib/python3.7/dist-packages (from pandas>=0.14->quandl) (2018.9)\n",
            "Requirement already satisfied: chardet<4,>=3.0.2 in /usr/local/lib/python3.7/dist-packages (from requests>=2.7.0->quandl) (3.0.4)\n",
            "Requirement already satisfied: certifi>=2017.4.17 in /usr/local/lib/python3.7/dist-packages (from requests>=2.7.0->quandl) (2020.12.5)\n",
            "Requirement already satisfied: urllib3!=1.25.0,!=1.25.1,<1.26,>=1.21.1 in /usr/local/lib/python3.7/dist-packages (from requests>=2.7.0->quandl) (1.24.3)\n",
            "Requirement already satisfied: idna<3,>=2.5 in /usr/local/lib/python3.7/dist-packages (from requests>=2.7.0->quandl) (2.10)\n"
          ],
          "name": "stdout"
        }
      ]
    },
    {
      "cell_type": "code",
      "metadata": {
        "id": "imA7wgjQmFxD"
      },
      "source": [
        ""
      ],
      "execution_count": null,
      "outputs": []
    },
    {
      "cell_type": "code",
      "metadata": {
        "id": "HVE1i0L_107p"
      },
      "source": [
        "# Data Collection\n",
        "import pandas_datareader as pdr\n",
        "key=\"de024210a740b04261542d06ec2bff6b454086ae\""
      ],
      "execution_count": null,
      "outputs": []
    },
    {
      "cell_type": "code",
      "metadata": {
        "id": "wlYA9maj-7tQ"
      },
      "source": [
        "df=pdr.get_data_tiingo(\"DOGEUSD\",api_key=key)"
      ],
      "execution_count": null,
      "outputs": []
    },
    {
      "cell_type": "code",
      "metadata": {
        "id": "yz7ZY_y6AcO1"
      },
      "source": [
        "df.to_csv(\"AAPL.csv\")"
      ],
      "execution_count": null,
      "outputs": []
    },
    {
      "cell_type": "code",
      "metadata": {
        "colab": {
          "base_uri": "https://localhost:8080/",
          "height": 235
        },
        "id": "fp4Gt8OaAimE",
        "outputId": "4a6dc3bd-b248-4333-9681-f1c6d9c0cbbe"
      },
      "source": [
        "df.tail()"
      ],
      "execution_count": null,
      "outputs": [
        {
          "output_type": "execute_result",
          "data": {
            "text/html": [
              "<div>\n",
              "<style scoped>\n",
              "    .dataframe tbody tr th:only-of-type {\n",
              "        vertical-align: middle;\n",
              "    }\n",
              "\n",
              "    .dataframe tbody tr th {\n",
              "        vertical-align: top;\n",
              "    }\n",
              "\n",
              "    .dataframe thead th {\n",
              "        text-align: right;\n",
              "    }\n",
              "</style>\n",
              "<table border=\"1\" class=\"dataframe\">\n",
              "  <thead>\n",
              "    <tr style=\"text-align: right;\">\n",
              "      <th></th>\n",
              "      <th></th>\n",
              "      <th>close</th>\n",
              "      <th>high</th>\n",
              "      <th>low</th>\n",
              "      <th>open</th>\n",
              "      <th>volume</th>\n",
              "      <th>adjClose</th>\n",
              "      <th>adjHigh</th>\n",
              "      <th>adjLow</th>\n",
              "      <th>adjOpen</th>\n",
              "      <th>adjVolume</th>\n",
              "      <th>divCash</th>\n",
              "      <th>splitFactor</th>\n",
              "    </tr>\n",
              "    <tr>\n",
              "      <th>symbol</th>\n",
              "      <th>date</th>\n",
              "      <th></th>\n",
              "      <th></th>\n",
              "      <th></th>\n",
              "      <th></th>\n",
              "      <th></th>\n",
              "      <th></th>\n",
              "      <th></th>\n",
              "      <th></th>\n",
              "      <th></th>\n",
              "      <th></th>\n",
              "      <th></th>\n",
              "      <th></th>\n",
              "    </tr>\n",
              "  </thead>\n",
              "  <tbody>\n",
              "    <tr>\n",
              "      <th rowspan=\"5\" valign=\"top\">DOGEUSD</th>\n",
              "      <th>2021-05-29 00:00:00+00:00</th>\n",
              "      <td>0.302806</td>\n",
              "      <td>0.317946</td>\n",
              "      <td>0.280220</td>\n",
              "      <td>0.311234</td>\n",
              "      <td>2.003675e+09</td>\n",
              "      <td>0.302806</td>\n",
              "      <td>0.317946</td>\n",
              "      <td>0.280220</td>\n",
              "      <td>0.311234</td>\n",
              "      <td>2.003675e+09</td>\n",
              "      <td>0.0</td>\n",
              "      <td>1.0</td>\n",
              "    </tr>\n",
              "    <tr>\n",
              "      <th>2021-05-30 00:00:00+00:00</th>\n",
              "      <td>0.301794</td>\n",
              "      <td>0.310787</td>\n",
              "      <td>0.286534</td>\n",
              "      <td>0.302729</td>\n",
              "      <td>1.523842e+09</td>\n",
              "      <td>0.301794</td>\n",
              "      <td>0.310787</td>\n",
              "      <td>0.286534</td>\n",
              "      <td>0.302729</td>\n",
              "      <td>1.523842e+09</td>\n",
              "      <td>0.0</td>\n",
              "      <td>1.0</td>\n",
              "    </tr>\n",
              "    <tr>\n",
              "      <th>2021-05-31 00:00:00+00:00</th>\n",
              "      <td>0.325573</td>\n",
              "      <td>0.329909</td>\n",
              "      <td>0.293863</td>\n",
              "      <td>0.301790</td>\n",
              "      <td>1.912699e+09</td>\n",
              "      <td>0.325573</td>\n",
              "      <td>0.329909</td>\n",
              "      <td>0.293863</td>\n",
              "      <td>0.301790</td>\n",
              "      <td>1.912699e+09</td>\n",
              "      <td>0.0</td>\n",
              "      <td>1.0</td>\n",
              "    </tr>\n",
              "    <tr>\n",
              "      <th>2021-06-01 00:00:00+00:00</th>\n",
              "      <td>0.370061</td>\n",
              "      <td>0.384783</td>\n",
              "      <td>0.311194</td>\n",
              "      <td>0.325580</td>\n",
              "      <td>4.478786e+09</td>\n",
              "      <td>0.370061</td>\n",
              "      <td>0.384783</td>\n",
              "      <td>0.311194</td>\n",
              "      <td>0.325580</td>\n",
              "      <td>4.478786e+09</td>\n",
              "      <td>0.0</td>\n",
              "      <td>1.0</td>\n",
              "    </tr>\n",
              "    <tr>\n",
              "      <th>2021-06-02 00:00:00+00:00</th>\n",
              "      <td>0.426632</td>\n",
              "      <td>0.444998</td>\n",
              "      <td>0.351102</td>\n",
              "      <td>0.370063</td>\n",
              "      <td>4.281139e+09</td>\n",
              "      <td>0.426632</td>\n",
              "      <td>0.444998</td>\n",
              "      <td>0.351102</td>\n",
              "      <td>0.370063</td>\n",
              "      <td>4.281139e+09</td>\n",
              "      <td>0.0</td>\n",
              "      <td>1.0</td>\n",
              "    </tr>\n",
              "  </tbody>\n",
              "</table>\n",
              "</div>"
            ],
            "text/plain": [
              "                                      close      high  ...  divCash  splitFactor\n",
              "symbol  date                                           ...                      \n",
              "DOGEUSD 2021-05-29 00:00:00+00:00  0.302806  0.317946  ...      0.0          1.0\n",
              "        2021-05-30 00:00:00+00:00  0.301794  0.310787  ...      0.0          1.0\n",
              "        2021-05-31 00:00:00+00:00  0.325573  0.329909  ...      0.0          1.0\n",
              "        2021-06-01 00:00:00+00:00  0.370061  0.384783  ...      0.0          1.0\n",
              "        2021-06-02 00:00:00+00:00  0.426632  0.444998  ...      0.0          1.0\n",
              "\n",
              "[5 rows x 12 columns]"
            ]
          },
          "metadata": {
            "tags": []
          },
          "execution_count": 98
        }
      ]
    },
    {
      "cell_type": "code",
      "metadata": {
        "id": "VMAtvSPMAjQo"
      },
      "source": [
        ""
      ],
      "execution_count": null,
      "outputs": []
    },
    {
      "cell_type": "code",
      "metadata": {
        "id": "8zL_cQKqDNiV"
      },
      "source": [
        "df1=df.reset_index()[\"close\"]"
      ],
      "execution_count": null,
      "outputs": []
    },
    {
      "cell_type": "code",
      "metadata": {
        "colab": {
          "base_uri": "https://localhost:8080/"
        },
        "id": "IPxIrIhVDbtH",
        "outputId": "6db17441-9e20-4d4f-dae6-fcc92c6ff330"
      },
      "source": [
        "df1"
      ],
      "execution_count": null,
      "outputs": [
        {
          "output_type": "execute_result",
          "data": {
            "text/plain": [
              "0       0.000205\n",
              "1       0.000178\n",
              "2       0.000178\n",
              "3       0.000190\n",
              "4       0.000206\n",
              "          ...   \n",
              "1513    0.302806\n",
              "1514    0.301794\n",
              "1515    0.325573\n",
              "1516    0.370061\n",
              "1517    0.426632\n",
              "Name: close, Length: 1518, dtype: float64"
            ]
          },
          "metadata": {
            "tags": []
          },
          "execution_count": 100
        }
      ]
    },
    {
      "cell_type": "code",
      "metadata": {
        "colab": {
          "base_uri": "https://localhost:8080/",
          "height": 282
        },
        "id": "UbkpYfZHDcbI",
        "outputId": "5211a175-5a4d-4884-bcb4-99c96b5d9adc"
      },
      "source": [
        "import matplotlib.pyplot as plt\n",
        "plt.plot(df1[1200:])"
      ],
      "execution_count": null,
      "outputs": [
        {
          "output_type": "execute_result",
          "data": {
            "text/plain": [
              "[<matplotlib.lines.Line2D at 0x7fdd30fe4690>]"
            ]
          },
          "metadata": {
            "tags": []
          },
          "execution_count": 102
        },
        {
          "output_type": "display_data",
          "data": {
            "image/png": "[encoded data removed]",
            "text/plain": [
              "<Figure size 432x288 with 1 Axes>"
            ]
          },
          "metadata": {
            "tags": [],
            "needs_background": "light"
          }
        }
      ]
    },
    {
      "cell_type": "code",
      "metadata": {
        "id": "_pyL3hjXDi1Y"
      },
      "source": [
        "#LSTM are sensitive to data so we apply min max scaler"
      ],
      "execution_count": null,
      "outputs": []
    },
    {
      "cell_type": "code",
      "metadata": {
        "id": "tqSCfUhSD6I5"
      },
      "source": [
        "import numpy as np"
      ],
      "execution_count": null,
      "outputs": []
    },
    {
      "cell_type": "code",
      "metadata": {
        "colab": {
          "base_uri": "https://localhost:8080/"
        },
        "id": "tItroSwHD8sF",
        "outputId": "3c6ec219-017b-43d7-bd05-7d5b1480642d"
      },
      "source": [
        "from sklearn.preprocessing import MinMaxScaler\n",
        "scaler=MinMaxScaler(feature_range=(0,1))\n",
        "df1=scaler.fit_transform(np.array(df1).reshape(-1,1))\n",
        "df1.shape"
      ],
      "execution_count": null,
      "outputs": [
        {
          "output_type": "execute_result",
          "data": {
            "text/plain": [
              "(1518, 1)"
            ]
          },
          "metadata": {
            "tags": []
          },
          "execution_count": 105
        }
      ]
    },
    {
      "cell_type": "code",
      "metadata": {
        "id": "pLI3cAbhFGIs"
      },
      "source": [
        "# splitting the dataset\n",
        "training_size = int(len(df1)*0.75)\n",
        "test_size = len(df1)-training_size\n",
        "train_data,test_data=df1[0:training_size],df1[training_size:len(df1)]"
      ],
      "execution_count": null,
      "outputs": []
    },
    {
      "cell_type": "code",
      "metadata": {
        "id": "r2DRa6njGnro"
      },
      "source": [
        "# create array into dataset matrix\n",
        "def create_dataset(dataset,time_step=1):\n",
        "  dataX,dataY=[],[]\n",
        "  for i in range(len(dataset)-time_step):\n",
        "    a=dataset[i:(i+time_step),0]\n",
        "    dataX.append(a)\n",
        "    dataY.append(dataset[i+time_step,0])\n",
        "  return np.array(dataX),np.array(dataY)"
      ],
      "execution_count": null,
      "outputs": []
    },
    {
      "cell_type": "code",
      "metadata": {
        "id": "TvpJhO_vGpPG"
      },
      "source": [
        "X_train,y_train=create_dataset(train_data,time_step=100)\n",
        "X_test,y_test=create_dataset(test_data,time_step=100)"
      ],
      "execution_count": null,
      "outputs": []
    },
    {
      "cell_type": "code",
      "metadata": {
        "colab": {
          "base_uri": "https://localhost:8080/"
        },
        "id": "nmQO_kGZKB_r",
        "outputId": "1892bdc2-2f5b-4415-9642-9fc76be2b3e5"
      },
      "source": [
        "print(X_train.shape)"
      ],
      "execution_count": null,
      "outputs": [
        {
          "output_type": "stream",
          "text": [
            "(1038, 100)\n"
          ],
          "name": "stdout"
        }
      ]
    },
    {
      "cell_type": "code",
      "metadata": {
        "id": "9kmVmlRAKDfs"
      },
      "source": [
        "X_train=X_train.reshape(X_train.shape[0],X_train.shape[1],1)\n",
        "X_test=X_test.reshape(X_test.shape[0],X_test.shape[1],1)"
      ],
      "execution_count": null,
      "outputs": []
    },
    {
      "cell_type": "code",
      "metadata": {
        "id": "ojEtKZpGMf6q"
      },
      "source": [
        "## creating the LSTM model\n",
        "import tensorflow as tf\n",
        "import keras\n",
        "model=tf.keras.models.Sequential([\n",
        "                                  tf.keras.layers.LSTM(50,return_sequences=True,input_shape=(100,1)),\n",
        "                                  tf.keras.layers.LSTM(50,return_sequences=True),\n",
        "                                  tf.keras.layers.LSTM(50),\n",
        "                                  tf.keras.layers.Dense(1)\n",
        "                                  ])\n",
        "model.compile(loss=\"mean_squared_error\",optimizer=\"Adam\")"
      ],
      "execution_count": null,
      "outputs": []
    },
    {
      "cell_type": "code",
      "metadata": {
        "colab": {
          "base_uri": "https://localhost:8080/"
        },
        "id": "uQ_YBjKEOuSc",
        "outputId": "58e7e081-905a-4da5-820f-5ceb9db2b377"
      },
      "source": [
        "model.summary()"
      ],
      "execution_count": null,
      "outputs": [
        {
          "output_type": "stream",
          "text": [
            "Model: \"sequential_2\"\n",
            "_________________________________________________________________\n",
            "Layer (type)                 Output Shape              Param #   \n",
            "=================================================================\n",
            "lstm_6 (LSTM)                (None, 100, 50)           10400     \n",
            "_________________________________________________________________\n",
            "lstm_7 (LSTM)                (None, 100, 50)           20200     \n",
            "_________________________________________________________________\n",
            "lstm_8 (LSTM)                (None, 50)                20200     \n",
            "_________________________________________________________________\n",
            "dense_2 (Dense)              (None, 1)                 51        \n",
            "=================================================================\n",
            "Total params: 50,851\n",
            "Trainable params: 50,851\n",
            "Non-trainable params: 0\n",
            "_________________________________________________________________\n"
          ],
          "name": "stdout"
        }
      ]
    },
    {
      "cell_type": "code",
      "metadata": {
        "id": "3zgcluPmQFan"
      },
      "source": [
        ""
      ],
      "execution_count": null,
      "outputs": []
    },
    {
      "cell_type": "code",
      "metadata": {
        "colab": {
          "base_uri": "https://localhost:8080/"
        },
        "id": "SdfnONhbQLfJ",
        "outputId": "1d275812-c3d3-4143-ff5c-e9fdb6fe2ed5"
      },
      "source": [
        "model.fit(X_train,y_train,validation_data=(X_test,y_test),epochs=25,batch_size=64,verbose=1)"
      ],
      "execution_count": null,
      "outputs": [
        {
          "output_type": "stream",
          "text": [
            "Epoch 1/25\n",
            "17/17 [==============================] - 8s 227ms/step - loss: 3.7187e-05 - val_loss: 0.0624\n",
            "Epoch 2/25\n",
            "17/17 [==============================] - 3s 164ms/step - loss: 1.0091e-05 - val_loss: 0.0583\n",
            "Epoch 3/25\n",
            "17/17 [==============================] - 3s 164ms/step - loss: 7.5711e-06 - val_loss: 0.0561\n",
            "Epoch 4/25\n",
            "17/17 [==============================] - 3s 162ms/step - loss: 6.3628e-06 - val_loss: 0.0526\n",
            "Epoch 5/25\n",
            "17/17 [==============================] - 3s 161ms/step - loss: 6.1059e-06 - val_loss: 0.0474\n",
            "Epoch 6/25\n",
            "17/17 [==============================] - 3s 161ms/step - loss: 5.1861e-06 - val_loss: 0.0403\n",
            "Epoch 7/25\n",
            "17/17 [==============================] - 3s 164ms/step - loss: 4.1542e-06 - val_loss: 0.0267\n",
            "Epoch 8/25\n",
            "17/17 [==============================] - 3s 165ms/step - loss: 3.1385e-06 - val_loss: 0.0163\n",
            "Epoch 9/25\n",
            "17/17 [==============================] - 3s 161ms/step - loss: 3.4282e-06 - val_loss: 0.0182\n",
            "Epoch 10/25\n",
            "17/17 [==============================] - 3s 165ms/step - loss: 2.7723e-06 - val_loss: 0.0164\n",
            "Epoch 11/25\n",
            "17/17 [==============================] - 3s 161ms/step - loss: 2.3743e-06 - val_loss: 0.0134\n",
            "Epoch 12/25\n",
            "17/17 [==============================] - 3s 163ms/step - loss: 2.4682e-06 - val_loss: 0.0137\n",
            "Epoch 13/25\n",
            "17/17 [==============================] - 3s 165ms/step - loss: 2.4275e-06 - val_loss: 0.0134\n",
            "Epoch 14/25\n",
            "17/17 [==============================] - 3s 165ms/step - loss: 2.2184e-06 - val_loss: 0.0124\n",
            "Epoch 15/25\n",
            "17/17 [==============================] - 3s 162ms/step - loss: 1.9668e-06 - val_loss: 0.0110\n",
            "Epoch 16/25\n",
            "17/17 [==============================] - 3s 163ms/step - loss: 2.2608e-06 - val_loss: 0.0116\n",
            "Epoch 17/25\n",
            "17/17 [==============================] - 3s 162ms/step - loss: 2.0559e-06 - val_loss: 0.0118\n",
            "Epoch 18/25\n",
            "17/17 [==============================] - 3s 162ms/step - loss: 1.6209e-06 - val_loss: 0.0101\n",
            "Epoch 19/25\n",
            "17/17 [==============================] - 3s 166ms/step - loss: 1.6449e-06 - val_loss: 0.0094\n",
            "Epoch 20/25\n",
            "17/17 [==============================] - 3s 167ms/step - loss: 2.1822e-06 - val_loss: 0.0109\n",
            "Epoch 21/25\n",
            "17/17 [==============================] - 3s 166ms/step - loss: 1.5530e-06 - val_loss: 0.0090\n",
            "Epoch 22/25\n",
            "17/17 [==============================] - 3s 165ms/step - loss: 1.5512e-06 - val_loss: 0.0089\n",
            "Epoch 23/25\n",
            "17/17 [==============================] - 3s 163ms/step - loss: 1.4005e-06 - val_loss: 0.0091\n",
            "Epoch 24/25\n",
            "17/17 [==============================] - 3s 161ms/step - loss: 2.1635e-06 - val_loss: 0.0104\n",
            "Epoch 25/25\n",
            "17/17 [==============================] - 3s 165ms/step - loss: 1.4327e-06 - val_loss: 0.0078\n"
          ],
          "name": "stdout"
        },
        {
          "output_type": "execute_result",
          "data": {
            "text/plain": [
              "<tensorflow.python.keras.callbacks.History at 0x7fdd31009d10>"
            ]
          },
          "metadata": {
            "tags": []
          },
          "execution_count": 113
        }
      ]
    },
    {
      "cell_type": "code",
      "metadata": {
        "id": "46ruT7EoQbDh"
      },
      "source": [
        " train_predict=model.predict(X_train)\n",
        " test_predict=model.predict(X_test)"
      ],
      "execution_count": null,
      "outputs": []
    },
    {
      "cell_type": "code",
      "metadata": {
        "id": "93rRHy7HRIks"
      },
      "source": [
        "#transforming to orignal form\n",
        "train_predict=scaler.inverse_transform(train_predict)\n",
        "test_predict=scaler.inverse_transform(test_predict)\n"
      ],
      "execution_count": null,
      "outputs": []
    },
    {
      "cell_type": "code",
      "metadata": {
        "id": "kMh5ZZ6VRKTi",
        "colab": {
          "base_uri": "https://localhost:8080/"
        },
        "outputId": "78759770-6452-46b2-e94d-57f54a78bba1"
      },
      "source": [
        "# calculate RMSE performance\n",
        "import math\n",
        "from sklearn.metrics import mean_squared_error\n",
        "math.sqrt(mean_squared_error(y_train,train_predict))"
      ],
      "execution_count": null,
      "outputs": [
        {
          "output_type": "execute_result",
          "data": {
            "text/plain": [
              "0.002090990575623283"
            ]
          },
          "metadata": {
            "tags": []
          },
          "execution_count": 116
        }
      ]
    },
    {
      "cell_type": "code",
      "metadata": {
        "id": "Ozr8ClA6fYZD",
        "colab": {
          "base_uri": "https://localhost:8080/"
        },
        "outputId": "7b26b6d0-540f-4221-f57c-c55aef2e5f11"
      },
      "source": [
        "math.sqrt(mean_squared_error(y_test,test_predict))\n"
      ],
      "execution_count": null,
      "outputs": [
        {
          "output_type": "execute_result",
          "data": {
            "text/plain": [
              "0.1289791273840775"
            ]
          },
          "metadata": {
            "tags": []
          },
          "execution_count": 117
        }
      ]
    },
    {
      "cell_type": "code",
      "metadata": {
        "id": "hVIaskR5WTX8"
      },
      "source": [
        "test_data.shape\n",
        "n=test_data.shape[0]-n_steps"
      ],
      "execution_count": null,
      "outputs": []
    },
    {
      "cell_type": "markdown",
      "metadata": {
        "id": "oDx3fAbtR_Yt"
      },
      "source": [
        "### Predicting the price"
      ]
    },
    {
      "cell_type": "code",
      "metadata": {
        "colab": {
          "base_uri": "https://localhost:8080/"
        },
        "id": "0pr6qwlRQipb",
        "outputId": "51055147-415b-483f-e6a5-62fa829f7cbc"
      },
      "source": [
        "x_input=test_data[n:].reshape(1,-1)\n",
        "x_input.shape"
      ],
      "execution_count": null,
      "outputs": [
        {
          "output_type": "execute_result",
          "data": {
            "text/plain": [
              "(1, 100)"
            ]
          },
          "metadata": {
            "tags": []
          },
          "execution_count": 141
        }
      ]
    },
    {
      "cell_type": "code",
      "metadata": {
        "id": "lZMqMMdOTZye"
      },
      "source": [
        "temp_input=list(x_input)\n",
        "temp_input=temp_input[0].tolist()"
      ],
      "execution_count": null,
      "outputs": []
    },
    {
      "cell_type": "code",
      "metadata": {
        "colab": {
          "base_uri": "https://localhost:8080/"
        },
        "id": "oCzHSLfKTjec",
        "outputId": "e89bc164-47fe-4445-ec68-7ee0c13f8352"
      },
      "source": [
        "from numpy import array\n",
        "## stock prices for 30 days with data from 100 previous days\n",
        "lst_output=[]\n",
        "n_steps=100\n",
        "i=0\n",
        "days=30\n",
        "while(i<days):\n",
        "    \n",
        "    if(len(temp_input)>n_steps):\n",
        "        #print(temp_input)\n",
        "        x_input=np.array(temp_input[1:])\n",
        "        print(\"{} day input {}\".format(i,x_input))\n",
        "        x_input=x_input.reshape(1,-1)\n",
        "        x_input = x_input.reshape((1, n_steps, 1))\n",
        "        #print(x_input)\n",
        "        yhat = model.predict(x_input, verbose=0)\n",
        "        print(\"{} day output {}\".format(i,yhat))\n",
        "        temp_input.extend(yhat[0].tolist())\n",
        "        temp_input=temp_input[1:]\n",
        "        #print(temp_input)\n",
        "        lst_output.extend(yhat.tolist())\n",
        "        i=i+1\n",
        "    else:\n",
        "        x_input = x_input.reshape((1, n_steps,1))\n",
        "        yhat = model.predict(x_input, verbose=0)\n",
        "        print(yhat[0])\n",
        "        temp_input.extend(yhat[0].tolist())\n",
        "        print(len(temp_input))\n",
        "        lst_output.extend(yhat.tolist())\n",
        "        i=i+1\n",
        "    \n",
        "print(lst_output)"
      ],
      "execution_count": null,
      "outputs": [
        {
          "output_type": "stream",
          "text": [
            "[0.4052951]\n",
            "101\n",
            "1 day input [0.0813585  0.07523484 0.07327529 0.07261239 0.07083934 0.07331472\n",
            " 0.07296043 0.07327181 0.07094254 0.07187723 0.07394499 0.07525132\n",
            " 0.08900881 0.08414234 0.08109195 0.08113335 0.08019491 0.08978612\n",
            " 0.08454021 0.08278132 0.08493238 0.08404481 0.08327091 0.08456354\n",
            " 0.08542495 0.0833779  0.07981501 0.07788944 0.07472008 0.07437673\n",
            " 0.07829719 0.07898548 0.07787945 0.07853867 0.07837387 0.07792613\n",
            " 0.08946356 0.08353236 0.08076791 0.08332068 0.08668139 0.09312427\n",
            " 0.08545021 0.08957292 0.08938397 0.0925772  0.10866291 0.10281026\n",
            " 0.13608046 0.17275326 0.26201927 0.52388266 0.40878077 0.44710725\n",
            " 0.57313043 0.45853351 0.43031302 0.37880427 0.35275521 0.38626061\n",
            " 0.3626059  0.38131055 0.36933405 0.45061485 0.4107507  0.46682081\n",
            " 0.5523142  0.52695344 0.57535485 0.73868174 0.95061677 0.81858724\n",
            " 1.         0.92429568 0.82920817 0.65363927 0.7199162  0.60493524\n",
            " 0.70462256 0.82202611 0.74261078 0.74118379 0.7089748  0.69569205\n",
            " 0.48007426 0.57877879 0.5207813  0.49777509 0.44587108 0.53257586\n",
            " 0.50359589 0.51358339 0.486178   0.45299892 0.44071145 0.43923662\n",
            " 0.47386624 0.53865293 0.62103557 0.4052951 ]\n",
            "1 day output [[0.4026751]]\n",
            "2 day input [0.07523484 0.07327529 0.07261239 0.07083934 0.07331472 0.07296043\n",
            " 0.07327181 0.07094254 0.07187723 0.07394499 0.07525132 0.08900881\n",
            " 0.08414234 0.08109195 0.08113335 0.08019491 0.08978612 0.08454021\n",
            " 0.08278132 0.08493238 0.08404481 0.08327091 0.08456354 0.08542495\n",
            " 0.0833779  0.07981501 0.07788944 0.07472008 0.07437673 0.07829719\n",
            " 0.07898548 0.07787945 0.07853867 0.07837387 0.07792613 0.08946356\n",
            " 0.08353236 0.08076791 0.08332068 0.08668139 0.09312427 0.08545021\n",
            " 0.08957292 0.08938397 0.0925772  0.10866291 0.10281026 0.13608046\n",
            " 0.17275326 0.26201927 0.52388266 0.40878077 0.44710725 0.57313043\n",
            " 0.45853351 0.43031302 0.37880427 0.35275521 0.38626061 0.3626059\n",
            " 0.38131055 0.36933405 0.45061485 0.4107507  0.46682081 0.5523142\n",
            " 0.52695344 0.57535485 0.73868174 0.95061677 0.81858724 1.\n",
            " 0.92429568 0.82920817 0.65363927 0.7199162  0.60493524 0.70462256\n",
            " 0.82202611 0.74261078 0.74118379 0.7089748  0.69569205 0.48007426\n",
            " 0.57877879 0.5207813  0.49777509 0.44587108 0.53257586 0.50359589\n",
            " 0.51358339 0.486178   0.45299892 0.44071145 0.43923662 0.47386624\n",
            " 0.53865293 0.62103557 0.4052951  0.40267509]\n",
            "2 day output [[0.39955705]]\n",
            "3 day input [0.07327529 0.07261239 0.07083934 0.07331472 0.07296043 0.07327181\n",
            " 0.07094254 0.07187723 0.07394499 0.07525132 0.08900881 0.08414234\n",
            " 0.08109195 0.08113335 0.08019491 0.08978612 0.08454021 0.08278132\n",
            " 0.08493238 0.08404481 0.08327091 0.08456354 0.08542495 0.0833779\n",
            " 0.07981501 0.07788944 0.07472008 0.07437673 0.07829719 0.07898548\n",
            " 0.07787945 0.07853867 0.07837387 0.07792613 0.08946356 0.08353236\n",
            " 0.08076791 0.08332068 0.08668139 0.09312427 0.08545021 0.08957292\n",
            " 0.08938397 0.0925772  0.10866291 0.10281026 0.13608046 0.17275326\n",
            " 0.26201927 0.52388266 0.40878077 0.44710725 0.57313043 0.45853351\n",
            " 0.43031302 0.37880427 0.35275521 0.38626061 0.3626059  0.38131055\n",
            " 0.36933405 0.45061485 0.4107507  0.46682081 0.5523142  0.52695344\n",
            " 0.57535485 0.73868174 0.95061677 0.81858724 1.         0.92429568\n",
            " 0.82920817 0.65363927 0.7199162  0.60493524 0.70462256 0.82202611\n",
            " 0.74261078 0.74118379 0.7089748  0.69569205 0.48007426 0.57877879\n",
            " 0.5207813  0.49777509 0.44587108 0.53257586 0.50359589 0.51358339\n",
            " 0.486178   0.45299892 0.44071145 0.43923662 0.47386624 0.53865293\n",
            " 0.62103557 0.4052951  0.40267509 0.39955705]\n",
            "3 day output [[0.39522132]]\n",
            "4 day input [0.07261239 0.07083934 0.07331472 0.07296043 0.07327181 0.07094254\n",
            " 0.07187723 0.07394499 0.07525132 0.08900881 0.08414234 0.08109195\n",
            " 0.08113335 0.08019491 0.08978612 0.08454021 0.08278132 0.08493238\n",
            " 0.08404481 0.08327091 0.08456354 0.08542495 0.0833779  0.07981501\n",
            " 0.07788944 0.07472008 0.07437673 0.07829719 0.07898548 0.07787945\n",
            " 0.07853867 0.07837387 0.07792613 0.08946356 0.08353236 0.08076791\n",
            " 0.08332068 0.08668139 0.09312427 0.08545021 0.08957292 0.08938397\n",
            " 0.0925772  0.10866291 0.10281026 0.13608046 0.17275326 0.26201927\n",
            " 0.52388266 0.40878077 0.44710725 0.57313043 0.45853351 0.43031302\n",
            " 0.37880427 0.35275521 0.38626061 0.3626059  0.38131055 0.36933405\n",
            " 0.45061485 0.4107507  0.46682081 0.5523142  0.52695344 0.57535485\n",
            " 0.73868174 0.95061677 0.81858724 1.         0.92429568 0.82920817\n",
            " 0.65363927 0.7199162  0.60493524 0.70462256 0.82202611 0.74261078\n",
            " 0.74118379 0.7089748  0.69569205 0.48007426 0.57877879 0.5207813\n",
            " 0.49777509 0.44587108 0.53257586 0.50359589 0.51358339 0.486178\n",
            " 0.45299892 0.44071145 0.43923662 0.47386624 0.53865293 0.62103557\n",
            " 0.4052951  0.40267509 0.39955705 0.39522132]\n",
            "4 day output [[0.38956156]]\n",
            "5 day input [0.07083934 0.07331472 0.07296043 0.07327181 0.07094254 0.07187723\n",
            " 0.07394499 0.07525132 0.08900881 0.08414234 0.08109195 0.08113335\n",
            " 0.08019491 0.08978612 0.08454021 0.08278132 0.08493238 0.08404481\n",
            " 0.08327091 0.08456354 0.08542495 0.0833779  0.07981501 0.07788944\n",
            " 0.07472008 0.07437673 0.07829719 0.07898548 0.07787945 0.07853867\n",
            " 0.07837387 0.07792613 0.08946356 0.08353236 0.08076791 0.08332068\n",
            " 0.08668139 0.09312427 0.08545021 0.08957292 0.08938397 0.0925772\n",
            " 0.10866291 0.10281026 0.13608046 0.17275326 0.26201927 0.52388266\n",
            " 0.40878077 0.44710725 0.57313043 0.45853351 0.43031302 0.37880427\n",
            " 0.35275521 0.38626061 0.3626059  0.38131055 0.36933405 0.45061485\n",
            " 0.4107507  0.46682081 0.5523142  0.52695344 0.57535485 0.73868174\n",
            " 0.95061677 0.81858724 1.         0.92429568 0.82920817 0.65363927\n",
            " 0.7199162  0.60493524 0.70462256 0.82202611 0.74261078 0.74118379\n",
            " 0.7089748  0.69569205 0.48007426 0.57877879 0.5207813  0.49777509\n",
            " 0.44587108 0.53257586 0.50359589 0.51358339 0.486178   0.45299892\n",
            " 0.44071145 0.43923662 0.47386624 0.53865293 0.62103557 0.4052951\n",
            " 0.40267509 0.39955705 0.39522132 0.38956156]\n",
            "5 day output [[0.38276246]]\n",
            "6 day input [0.07331472 0.07296043 0.07327181 0.07094254 0.07187723 0.07394499\n",
            " 0.07525132 0.08900881 0.08414234 0.08109195 0.08113335 0.08019491\n",
            " 0.08978612 0.08454021 0.08278132 0.08493238 0.08404481 0.08327091\n",
            " 0.08456354 0.08542495 0.0833779  0.07981501 0.07788944 0.07472008\n",
            " 0.07437673 0.07829719 0.07898548 0.07787945 0.07853867 0.07837387\n",
            " 0.07792613 0.08946356 0.08353236 0.08076791 0.08332068 0.08668139\n",
            " 0.09312427 0.08545021 0.08957292 0.08938397 0.0925772  0.10866291\n",
            " 0.10281026 0.13608046 0.17275326 0.26201927 0.52388266 0.40878077\n",
            " 0.44710725 0.57313043 0.45853351 0.43031302 0.37880427 0.35275521\n",
            " 0.38626061 0.3626059  0.38131055 0.36933405 0.45061485 0.4107507\n",
            " 0.46682081 0.5523142  0.52695344 0.57535485 0.73868174 0.95061677\n",
            " 0.81858724 1.         0.92429568 0.82920817 0.65363927 0.7199162\n",
            " 0.60493524 0.70462256 0.82202611 0.74261078 0.74118379 0.7089748\n",
            " 0.69569205 0.48007426 0.57877879 0.5207813  0.49777509 0.44587108\n",
            " 0.53257586 0.50359589 0.51358339 0.486178   0.45299892 0.44071145\n",
            " 0.43923662 0.47386624 0.53865293 0.62103557 0.4052951  0.40267509\n",
            " 0.39955705 0.39522132 0.38956156 0.38276246]\n",
            "6 day output [[0.37511054]]\n",
            "7 day input [0.07296043 0.07327181 0.07094254 0.07187723 0.07394499 0.07525132\n",
            " 0.08900881 0.08414234 0.08109195 0.08113335 0.08019491 0.08978612\n",
            " 0.08454021 0.08278132 0.08493238 0.08404481 0.08327091 0.08456354\n",
            " 0.08542495 0.0833779  0.07981501 0.07788944 0.07472008 0.07437673\n",
            " 0.07829719 0.07898548 0.07787945 0.07853867 0.07837387 0.07792613\n",
            " 0.08946356 0.08353236 0.08076791 0.08332068 0.08668139 0.09312427\n",
            " 0.08545021 0.08957292 0.08938397 0.0925772  0.10866291 0.10281026\n",
            " 0.13608046 0.17275326 0.26201927 0.52388266 0.40878077 0.44710725\n",
            " 0.57313043 0.45853351 0.43031302 0.37880427 0.35275521 0.38626061\n",
            " 0.3626059  0.38131055 0.36933405 0.45061485 0.4107507  0.46682081\n",
            " 0.5523142  0.52695344 0.57535485 0.73868174 0.95061677 0.81858724\n",
            " 1.         0.92429568 0.82920817 0.65363927 0.7199162  0.60493524\n",
            " 0.70462256 0.82202611 0.74261078 0.74118379 0.7089748  0.69569205\n",
            " 0.48007426 0.57877879 0.5207813  0.49777509 0.44587108 0.53257586\n",
            " 0.50359589 0.51358339 0.486178   0.45299892 0.44071145 0.43923662\n",
            " 0.47386624 0.53865293 0.62103557 0.4052951  0.40267509 0.39955705\n",
            " 0.39522132 0.38956156 0.38276246 0.37511054]\n",
            "7 day output [[0.36689365]]\n",
            "8 day input [0.07327181 0.07094254 0.07187723 0.07394499 0.07525132 0.08900881\n",
            " 0.08414234 0.08109195 0.08113335 0.08019491 0.08978612 0.08454021\n",
            " 0.08278132 0.08493238 0.08404481 0.08327091 0.08456354 0.08542495\n",
            " 0.0833779  0.07981501 0.07788944 0.07472008 0.07437673 0.07829719\n",
            " 0.07898548 0.07787945 0.07853867 0.07837387 0.07792613 0.08946356\n",
            " 0.08353236 0.08076791 0.08332068 0.08668139 0.09312427 0.08545021\n",
            " 0.08957292 0.08938397 0.0925772  0.10866291 0.10281026 0.13608046\n",
            " 0.17275326 0.26201927 0.52388266 0.40878077 0.44710725 0.57313043\n",
            " 0.45853351 0.43031302 0.37880427 0.35275521 0.38626061 0.3626059\n",
            " 0.38131055 0.36933405 0.45061485 0.4107507  0.46682081 0.5523142\n",
            " 0.52695344 0.57535485 0.73868174 0.95061677 0.81858724 1.\n",
            " 0.92429568 0.82920817 0.65363927 0.7199162  0.60493524 0.70462256\n",
            " 0.82202611 0.74261078 0.74118379 0.7089748  0.69569205 0.48007426\n",
            " 0.57877879 0.5207813  0.49777509 0.44587108 0.53257586 0.50359589\n",
            " 0.51358339 0.486178   0.45299892 0.44071145 0.43923662 0.47386624\n",
            " 0.53865293 0.62103557 0.4052951  0.40267509 0.39955705 0.39522132\n",
            " 0.38956156 0.38276246 0.37511054 0.36689365]\n",
            "8 day output [[0.3583553]]\n",
            "9 day input [0.07094254 0.07187723 0.07394499 0.07525132 0.08900881 0.08414234\n",
            " 0.08109195 0.08113335 0.08019491 0.08978612 0.08454021 0.08278132\n",
            " 0.08493238 0.08404481 0.08327091 0.08456354 0.08542495 0.0833779\n",
            " 0.07981501 0.07788944 0.07472008 0.07437673 0.07829719 0.07898548\n",
            " 0.07787945 0.07853867 0.07837387 0.07792613 0.08946356 0.08353236\n",
            " 0.08076791 0.08332068 0.08668139 0.09312427 0.08545021 0.08957292\n",
            " 0.08938397 0.0925772  0.10866291 0.10281026 0.13608046 0.17275326\n",
            " 0.26201927 0.52388266 0.40878077 0.44710725 0.57313043 0.45853351\n",
            " 0.43031302 0.37880427 0.35275521 0.38626061 0.3626059  0.38131055\n",
            " 0.36933405 0.45061485 0.4107507  0.46682081 0.5523142  0.52695344\n",
            " 0.57535485 0.73868174 0.95061677 0.81858724 1.         0.92429568\n",
            " 0.82920817 0.65363927 0.7199162  0.60493524 0.70462256 0.82202611\n",
            " 0.74261078 0.74118379 0.7089748  0.69569205 0.48007426 0.57877879\n",
            " 0.5207813  0.49777509 0.44587108 0.53257586 0.50359589 0.51358339\n",
            " 0.486178   0.45299892 0.44071145 0.43923662 0.47386624 0.53865293\n",
            " 0.62103557 0.4052951  0.40267509 0.39955705 0.39522132 0.38956156\n",
            " 0.38276246 0.37511054 0.36689365 0.35835531]\n",
            "9 day output [[0.34968114]]\n",
            "10 day input [0.07187723 0.07394499 0.07525132 0.08900881 0.08414234 0.08109195\n",
            " 0.08113335 0.08019491 0.08978612 0.08454021 0.08278132 0.08493238\n",
            " 0.08404481 0.08327091 0.08456354 0.08542495 0.0833779  0.07981501\n",
            " 0.07788944 0.07472008 0.07437673 0.07829719 0.07898548 0.07787945\n",
            " 0.07853867 0.07837387 0.07792613 0.08946356 0.08353236 0.08076791\n",
            " 0.08332068 0.08668139 0.09312427 0.08545021 0.08957292 0.08938397\n",
            " 0.0925772  0.10866291 0.10281026 0.13608046 0.17275326 0.26201927\n",
            " 0.52388266 0.40878077 0.44710725 0.57313043 0.45853351 0.43031302\n",
            " 0.37880427 0.35275521 0.38626061 0.3626059  0.38131055 0.36933405\n",
            " 0.45061485 0.4107507  0.46682081 0.5523142  0.52695344 0.57535485\n",
            " 0.73868174 0.95061677 0.81858724 1.         0.92429568 0.82920817\n",
            " 0.65363927 0.7199162  0.60493524 0.70462256 0.82202611 0.74261078\n",
            " 0.74118379 0.7089748  0.69569205 0.48007426 0.57877879 0.5207813\n",
            " 0.49777509 0.44587108 0.53257586 0.50359589 0.51358339 0.486178\n",
            " 0.45299892 0.44071145 0.43923662 0.47386624 0.53865293 0.62103557\n",
            " 0.4052951  0.40267509 0.39955705 0.39522132 0.38956156 0.38276246\n",
            " 0.37511054 0.36689365 0.35835531 0.34968114]\n",
            "10 day output [[0.34100193]]\n",
            "11 day input [0.07394499 0.07525132 0.08900881 0.08414234 0.08109195 0.08113335\n",
            " 0.08019491 0.08978612 0.08454021 0.08278132 0.08493238 0.08404481\n",
            " 0.08327091 0.08456354 0.08542495 0.0833779  0.07981501 0.07788944\n",
            " 0.07472008 0.07437673 0.07829719 0.07898548 0.07787945 0.07853867\n",
            " 0.07837387 0.07792613 0.08946356 0.08353236 0.08076791 0.08332068\n",
            " 0.08668139 0.09312427 0.08545021 0.08957292 0.08938397 0.0925772\n",
            " 0.10866291 0.10281026 0.13608046 0.17275326 0.26201927 0.52388266\n",
            " 0.40878077 0.44710725 0.57313043 0.45853351 0.43031302 0.37880427\n",
            " 0.35275521 0.38626061 0.3626059  0.38131055 0.36933405 0.45061485\n",
            " 0.4107507  0.46682081 0.5523142  0.52695344 0.57535485 0.73868174\n",
            " 0.95061677 0.81858724 1.         0.92429568 0.82920817 0.65363927\n",
            " 0.7199162  0.60493524 0.70462256 0.82202611 0.74261078 0.74118379\n",
            " 0.7089748  0.69569205 0.48007426 0.57877879 0.5207813  0.49777509\n",
            " 0.44587108 0.53257586 0.50359589 0.51358339 0.486178   0.45299892\n",
            " 0.44071145 0.43923662 0.47386624 0.53865293 0.62103557 0.4052951\n",
            " 0.40267509 0.39955705 0.39522132 0.38956156 0.38276246 0.37511054\n",
            " 0.36689365 0.35835531 0.34968114 0.34100193]\n",
            "11 day output [[0.33240312]]\n",
            "12 day input [0.07525132 0.08900881 0.08414234 0.08109195 0.08113335 0.08019491\n",
            " 0.08978612 0.08454021 0.08278132 0.08493238 0.08404481 0.08327091\n",
            " 0.08456354 0.08542495 0.0833779  0.07981501 0.07788944 0.07472008\n",
            " 0.07437673 0.07829719 0.07898548 0.07787945 0.07853867 0.07837387\n",
            " 0.07792613 0.08946356 0.08353236 0.08076791 0.08332068 0.08668139\n",
            " 0.09312427 0.08545021 0.08957292 0.08938397 0.0925772  0.10866291\n",
            " 0.10281026 0.13608046 0.17275326 0.26201927 0.52388266 0.40878077\n",
            " 0.44710725 0.57313043 0.45853351 0.43031302 0.37880427 0.35275521\n",
            " 0.38626061 0.3626059  0.38131055 0.36933405 0.45061485 0.4107507\n",
            " 0.46682081 0.5523142  0.52695344 0.57535485 0.73868174 0.95061677\n",
            " 0.81858724 1.         0.92429568 0.82920817 0.65363927 0.7199162\n",
            " 0.60493524 0.70462256 0.82202611 0.74261078 0.74118379 0.7089748\n",
            " 0.69569205 0.48007426 0.57877879 0.5207813  0.49777509 0.44587108\n",
            " 0.53257586 0.50359589 0.51358339 0.486178   0.45299892 0.44071145\n",
            " 0.43923662 0.47386624 0.53865293 0.62103557 0.4052951  0.40267509\n",
            " 0.39955705 0.39522132 0.38956156 0.38276246 0.37511054 0.36689365\n",
            " 0.35835531 0.34968114 0.34100193 0.33240312]\n",
            "12 day output [[0.3239366]]\n",
            "13 day input [0.08900881 0.08414234 0.08109195 0.08113335 0.08019491 0.08978612\n",
            " 0.08454021 0.08278132 0.08493238 0.08404481 0.08327091 0.08456354\n",
            " 0.08542495 0.0833779  0.07981501 0.07788944 0.07472008 0.07437673\n",
            " 0.07829719 0.07898548 0.07787945 0.07853867 0.07837387 0.07792613\n",
            " 0.08946356 0.08353236 0.08076791 0.08332068 0.08668139 0.09312427\n",
            " 0.08545021 0.08957292 0.08938397 0.0925772  0.10866291 0.10281026\n",
            " 0.13608046 0.17275326 0.26201927 0.52388266 0.40878077 0.44710725\n",
            " 0.57313043 0.45853351 0.43031302 0.37880427 0.35275521 0.38626061\n",
            " 0.3626059  0.38131055 0.36933405 0.45061485 0.4107507  0.46682081\n",
            " 0.5523142  0.52695344 0.57535485 0.73868174 0.95061677 0.81858724\n",
            " 1.         0.92429568 0.82920817 0.65363927 0.7199162  0.60493524\n",
            " 0.70462256 0.82202611 0.74261078 0.74118379 0.7089748  0.69569205\n",
            " 0.48007426 0.57877879 0.5207813  0.49777509 0.44587108 0.53257586\n",
            " 0.50359589 0.51358339 0.486178   0.45299892 0.44071145 0.43923662\n",
            " 0.47386624 0.53865293 0.62103557 0.4052951  0.40267509 0.39955705\n",
            " 0.39522132 0.38956156 0.38276246 0.37511054 0.36689365 0.35835531\n",
            " 0.34968114 0.34100193 0.33240312 0.32393661]\n",
            "13 day output [[0.3156308]]\n",
            "14 day input [0.08414234 0.08109195 0.08113335 0.08019491 0.08978612 0.08454021\n",
            " 0.08278132 0.08493238 0.08404481 0.08327091 0.08456354 0.08542495\n",
            " 0.0833779  0.07981501 0.07788944 0.07472008 0.07437673 0.07829719\n",
            " 0.07898548 0.07787945 0.07853867 0.07837387 0.07792613 0.08946356\n",
            " 0.08353236 0.08076791 0.08332068 0.08668139 0.09312427 0.08545021\n",
            " 0.08957292 0.08938397 0.0925772  0.10866291 0.10281026 0.13608046\n",
            " 0.17275326 0.26201927 0.52388266 0.40878077 0.44710725 0.57313043\n",
            " 0.45853351 0.43031302 0.37880427 0.35275521 0.38626061 0.3626059\n",
            " 0.38131055 0.36933405 0.45061485 0.4107507  0.46682081 0.5523142\n",
            " 0.52695344 0.57535485 0.73868174 0.95061677 0.81858724 1.\n",
            " 0.92429568 0.82920817 0.65363927 0.7199162  0.60493524 0.70462256\n",
            " 0.82202611 0.74261078 0.74118379 0.7089748  0.69569205 0.48007426\n",
            " 0.57877879 0.5207813  0.49777509 0.44587108 0.53257586 0.50359589\n",
            " 0.51358339 0.486178   0.45299892 0.44071145 0.43923662 0.47386624\n",
            " 0.53865293 0.62103557 0.4052951  0.40267509 0.39955705 0.39522132\n",
            " 0.38956156 0.38276246 0.37511054 0.36689365 0.35835531 0.34968114\n",
            " 0.34100193 0.33240312 0.32393661 0.31563079]\n",
            "14 day output [[0.3074989]]\n",
            "15 day input [0.08109195 0.08113335 0.08019491 0.08978612 0.08454021 0.08278132\n",
            " 0.08493238 0.08404481 0.08327091 0.08456354 0.08542495 0.0833779\n",
            " 0.07981501 0.07788944 0.07472008 0.07437673 0.07829719 0.07898548\n",
            " 0.07787945 0.07853867 0.07837387 0.07792613 0.08946356 0.08353236\n",
            " 0.08076791 0.08332068 0.08668139 0.09312427 0.08545021 0.08957292\n",
            " 0.08938397 0.0925772  0.10866291 0.10281026 0.13608046 0.17275326\n",
            " 0.26201927 0.52388266 0.40878077 0.44710725 0.57313043 0.45853351\n",
            " 0.43031302 0.37880427 0.35275521 0.38626061 0.3626059  0.38131055\n",
            " 0.36933405 0.45061485 0.4107507  0.46682081 0.5523142  0.52695344\n",
            " 0.57535485 0.73868174 0.95061677 0.81858724 1.         0.92429568\n",
            " 0.82920817 0.65363927 0.7199162  0.60493524 0.70462256 0.82202611\n",
            " 0.74261078 0.74118379 0.7089748  0.69569205 0.48007426 0.57877879\n",
            " 0.5207813  0.49777509 0.44587108 0.53257586 0.50359589 0.51358339\n",
            " 0.486178   0.45299892 0.44071145 0.43923662 0.47386624 0.53865293\n",
            " 0.62103557 0.4052951  0.40267509 0.39955705 0.39522132 0.38956156\n",
            " 0.38276246 0.37511054 0.36689365 0.35835531 0.34968114 0.34100193\n",
            " 0.33240312 0.32393661 0.31563079 0.3074989 ]\n",
            "15 day output [[0.29954505]]\n",
            "16 day input [0.08113335 0.08019491 0.08978612 0.08454021 0.08278132 0.08493238\n",
            " 0.08404481 0.08327091 0.08456354 0.08542495 0.0833779  0.07981501\n",
            " 0.07788944 0.07472008 0.07437673 0.07829719 0.07898548 0.07787945\n",
            " 0.07853867 0.07837387 0.07792613 0.08946356 0.08353236 0.08076791\n",
            " 0.08332068 0.08668139 0.09312427 0.08545021 0.08957292 0.08938397\n",
            " 0.0925772  0.10866291 0.10281026 0.13608046 0.17275326 0.26201927\n",
            " 0.52388266 0.40878077 0.44710725 0.57313043 0.45853351 0.43031302\n",
            " 0.37880427 0.35275521 0.38626061 0.3626059  0.38131055 0.36933405\n",
            " 0.45061485 0.4107507  0.46682081 0.5523142  0.52695344 0.57535485\n",
            " 0.73868174 0.95061677 0.81858724 1.         0.92429568 0.82920817\n",
            " 0.65363927 0.7199162  0.60493524 0.70462256 0.82202611 0.74261078\n",
            " 0.74118379 0.7089748  0.69569205 0.48007426 0.57877879 0.5207813\n",
            " 0.49777509 0.44587108 0.53257586 0.50359589 0.51358339 0.486178\n",
            " 0.45299892 0.44071145 0.43923662 0.47386624 0.53865293 0.62103557\n",
            " 0.4052951  0.40267509 0.39955705 0.39522132 0.38956156 0.38276246\n",
            " 0.37511054 0.36689365 0.35835531 0.34968114 0.34100193 0.33240312\n",
            " 0.32393661 0.31563079 0.3074989  0.29954505]\n",
            "16 day output [[0.2917685]]\n",
            "17 day input [0.08019491 0.08978612 0.08454021 0.08278132 0.08493238 0.08404481\n",
            " 0.08327091 0.08456354 0.08542495 0.0833779  0.07981501 0.07788944\n",
            " 0.07472008 0.07437673 0.07829719 0.07898548 0.07787945 0.07853867\n",
            " 0.07837387 0.07792613 0.08946356 0.08353236 0.08076791 0.08332068\n",
            " 0.08668139 0.09312427 0.08545021 0.08957292 0.08938397 0.0925772\n",
            " 0.10866291 0.10281026 0.13608046 0.17275326 0.26201927 0.52388266\n",
            " 0.40878077 0.44710725 0.57313043 0.45853351 0.43031302 0.37880427\n",
            " 0.35275521 0.38626061 0.3626059  0.38131055 0.36933405 0.45061485\n",
            " 0.4107507  0.46682081 0.5523142  0.52695344 0.57535485 0.73868174\n",
            " 0.95061677 0.81858724 1.         0.92429568 0.82920817 0.65363927\n",
            " 0.7199162  0.60493524 0.70462256 0.82202611 0.74261078 0.74118379\n",
            " 0.7089748  0.69569205 0.48007426 0.57877879 0.5207813  0.49777509\n",
            " 0.44587108 0.53257586 0.50359589 0.51358339 0.486178   0.45299892\n",
            " 0.44071145 0.43923662 0.47386624 0.53865293 0.62103557 0.4052951\n",
            " 0.40267509 0.39955705 0.39522132 0.38956156 0.38276246 0.37511054\n",
            " 0.36689365 0.35835531 0.34968114 0.34100193 0.33240312 0.32393661\n",
            " 0.31563079 0.3074989  0.29954505 0.29176849]\n",
            "17 day output [[0.28416592]]\n",
            "18 day input [0.08978612 0.08454021 0.08278132 0.08493238 0.08404481 0.08327091\n",
            " 0.08456354 0.08542495 0.0833779  0.07981501 0.07788944 0.07472008\n",
            " 0.07437673 0.07829719 0.07898548 0.07787945 0.07853867 0.07837387\n",
            " 0.07792613 0.08946356 0.08353236 0.08076791 0.08332068 0.08668139\n",
            " 0.09312427 0.08545021 0.08957292 0.08938397 0.0925772  0.10866291\n",
            " 0.10281026 0.13608046 0.17275326 0.26201927 0.52388266 0.40878077\n",
            " 0.44710725 0.57313043 0.45853351 0.43031302 0.37880427 0.35275521\n",
            " 0.38626061 0.3626059  0.38131055 0.36933405 0.45061485 0.4107507\n",
            " 0.46682081 0.5523142  0.52695344 0.57535485 0.73868174 0.95061677\n",
            " 0.81858724 1.         0.92429568 0.82920817 0.65363927 0.7199162\n",
            " 0.60493524 0.70462256 0.82202611 0.74261078 0.74118379 0.7089748\n",
            " 0.69569205 0.48007426 0.57877879 0.5207813  0.49777509 0.44587108\n",
            " 0.53257586 0.50359589 0.51358339 0.486178   0.45299892 0.44071145\n",
            " 0.43923662 0.47386624 0.53865293 0.62103557 0.4052951  0.40267509\n",
            " 0.39955705 0.39522132 0.38956156 0.38276246 0.37511054 0.36689365\n",
            " 0.35835531 0.34968114 0.34100193 0.33240312 0.32393661 0.31563079\n",
            " 0.3074989  0.29954505 0.29176849 0.28416592]\n",
            "18 day output [[0.2767331]]\n",
            "19 day input [0.08454021 0.08278132 0.08493238 0.08404481 0.08327091 0.08456354\n",
            " 0.08542495 0.0833779  0.07981501 0.07788944 0.07472008 0.07437673\n",
            " 0.07829719 0.07898548 0.07787945 0.07853867 0.07837387 0.07792613\n",
            " 0.08946356 0.08353236 0.08076791 0.08332068 0.08668139 0.09312427\n",
            " 0.08545021 0.08957292 0.08938397 0.0925772  0.10866291 0.10281026\n",
            " 0.13608046 0.17275326 0.26201927 0.52388266 0.40878077 0.44710725\n",
            " 0.57313043 0.45853351 0.43031302 0.37880427 0.35275521 0.38626061\n",
            " 0.3626059  0.38131055 0.36933405 0.45061485 0.4107507  0.46682081\n",
            " 0.5523142  0.52695344 0.57535485 0.73868174 0.95061677 0.81858724\n",
            " 1.         0.92429568 0.82920817 0.65363927 0.7199162  0.60493524\n",
            " 0.70462256 0.82202611 0.74261078 0.74118379 0.7089748  0.69569205\n",
            " 0.48007426 0.57877879 0.5207813  0.49777509 0.44587108 0.53257586\n",
            " 0.50359589 0.51358339 0.486178   0.45299892 0.44071145 0.43923662\n",
            " 0.47386624 0.53865293 0.62103557 0.4052951  0.40267509 0.39955705\n",
            " 0.39522132 0.38956156 0.38276246 0.37511054 0.36689365 0.35835531\n",
            " 0.34968114 0.34100193 0.33240312 0.32393661 0.31563079 0.3074989\n",
            " 0.29954505 0.29176849 0.28416592 0.2767331 ]\n",
            "19 day output [[0.26946568]]\n",
            "20 day input [0.08278132 0.08493238 0.08404481 0.08327091 0.08456354 0.08542495\n",
            " 0.0833779  0.07981501 0.07788944 0.07472008 0.07437673 0.07829719\n",
            " 0.07898548 0.07787945 0.07853867 0.07837387 0.07792613 0.08946356\n",
            " 0.08353236 0.08076791 0.08332068 0.08668139 0.09312427 0.08545021\n",
            " 0.08957292 0.08938397 0.0925772  0.10866291 0.10281026 0.13608046\n",
            " 0.17275326 0.26201927 0.52388266 0.40878077 0.44710725 0.57313043\n",
            " 0.45853351 0.43031302 0.37880427 0.35275521 0.38626061 0.3626059\n",
            " 0.38131055 0.36933405 0.45061485 0.4107507  0.46682081 0.5523142\n",
            " 0.52695344 0.57535485 0.73868174 0.95061677 0.81858724 1.\n",
            " 0.92429568 0.82920817 0.65363927 0.7199162  0.60493524 0.70462256\n",
            " 0.82202611 0.74261078 0.74118379 0.7089748  0.69569205 0.48007426\n",
            " 0.57877879 0.5207813  0.49777509 0.44587108 0.53257586 0.50359589\n",
            " 0.51358339 0.486178   0.45299892 0.44071145 0.43923662 0.47386624\n",
            " 0.53865293 0.62103557 0.4052951  0.40267509 0.39955705 0.39522132\n",
            " 0.38956156 0.38276246 0.37511054 0.36689365 0.35835531 0.34968114\n",
            " 0.34100193 0.33240312 0.32393661 0.31563079 0.3074989  0.29954505\n",
            " 0.29176849 0.28416592 0.2767331  0.26946568]\n",
            "20 day output [[0.26235968]]\n",
            "21 day input [0.08493238 0.08404481 0.08327091 0.08456354 0.08542495 0.0833779\n",
            " 0.07981501 0.07788944 0.07472008 0.07437673 0.07829719 0.07898548\n",
            " 0.07787945 0.07853867 0.07837387 0.07792613 0.08946356 0.08353236\n",
            " 0.08076791 0.08332068 0.08668139 0.09312427 0.08545021 0.08957292\n",
            " 0.08938397 0.0925772  0.10866291 0.10281026 0.13608046 0.17275326\n",
            " 0.26201927 0.52388266 0.40878077 0.44710725 0.57313043 0.45853351\n",
            " 0.43031302 0.37880427 0.35275521 0.38626061 0.3626059  0.38131055\n",
            " 0.36933405 0.45061485 0.4107507  0.46682081 0.5523142  0.52695344\n",
            " 0.57535485 0.73868174 0.95061677 0.81858724 1.         0.92429568\n",
            " 0.82920817 0.65363927 0.7199162  0.60493524 0.70462256 0.82202611\n",
            " 0.74261078 0.74118379 0.7089748  0.69569205 0.48007426 0.57877879\n",
            " 0.5207813  0.49777509 0.44587108 0.53257586 0.50359589 0.51358339\n",
            " 0.486178   0.45299892 0.44071145 0.43923662 0.47386624 0.53865293\n",
            " 0.62103557 0.4052951  0.40267509 0.39955705 0.39522132 0.38956156\n",
            " 0.38276246 0.37511054 0.36689365 0.35835531 0.34968114 0.34100193\n",
            " 0.33240312 0.32393661 0.31563079 0.3074989  0.29954505 0.29176849\n",
            " 0.28416592 0.2767331  0.26946568 0.26235968]\n",
            "21 day output [[0.25541145]]\n",
            "22 day input [0.08404481 0.08327091 0.08456354 0.08542495 0.0833779  0.07981501\n",
            " 0.07788944 0.07472008 0.07437673 0.07829719 0.07898548 0.07787945\n",
            " 0.07853867 0.07837387 0.07792613 0.08946356 0.08353236 0.08076791\n",
            " 0.08332068 0.08668139 0.09312427 0.08545021 0.08957292 0.08938397\n",
            " 0.0925772  0.10866291 0.10281026 0.13608046 0.17275326 0.26201927\n",
            " 0.52388266 0.40878077 0.44710725 0.57313043 0.45853351 0.43031302\n",
            " 0.37880427 0.35275521 0.38626061 0.3626059  0.38131055 0.36933405\n",
            " 0.45061485 0.4107507  0.46682081 0.5523142  0.52695344 0.57535485\n",
            " 0.73868174 0.95061677 0.81858724 1.         0.92429568 0.82920817\n",
            " 0.65363927 0.7199162  0.60493524 0.70462256 0.82202611 0.74261078\n",
            " 0.74118379 0.7089748  0.69569205 0.48007426 0.57877879 0.5207813\n",
            " 0.49777509 0.44587108 0.53257586 0.50359589 0.51358339 0.486178\n",
            " 0.45299892 0.44071145 0.43923662 0.47386624 0.53865293 0.62103557\n",
            " 0.4052951  0.40267509 0.39955705 0.39522132 0.38956156 0.38276246\n",
            " 0.37511054 0.36689365 0.35835531 0.34968114 0.34100193 0.33240312\n",
            " 0.32393661 0.31563079 0.3074989  0.29954505 0.29176849 0.28416592\n",
            " 0.2767331  0.26946568 0.26235968 0.25541145]\n",
            "22 day output [[0.24861772]]\n",
            "23 day input [0.08327091 0.08456354 0.08542495 0.0833779  0.07981501 0.07788944\n",
            " 0.07472008 0.07437673 0.07829719 0.07898548 0.07787945 0.07853867\n",
            " 0.07837387 0.07792613 0.08946356 0.08353236 0.08076791 0.08332068\n",
            " 0.08668139 0.09312427 0.08545021 0.08957292 0.08938397 0.0925772\n",
            " 0.10866291 0.10281026 0.13608046 0.17275326 0.26201927 0.52388266\n",
            " 0.40878077 0.44710725 0.57313043 0.45853351 0.43031302 0.37880427\n",
            " 0.35275521 0.38626061 0.3626059  0.38131055 0.36933405 0.45061485\n",
            " 0.4107507  0.46682081 0.5523142  0.52695344 0.57535485 0.73868174\n",
            " 0.95061677 0.81858724 1.         0.92429568 0.82920817 0.65363927\n",
            " 0.7199162  0.60493524 0.70462256 0.82202611 0.74261078 0.74118379\n",
            " 0.7089748  0.69569205 0.48007426 0.57877879 0.5207813  0.49777509\n",
            " 0.44587108 0.53257586 0.50359589 0.51358339 0.486178   0.45299892\n",
            " 0.44071145 0.43923662 0.47386624 0.53865293 0.62103557 0.4052951\n",
            " 0.40267509 0.39955705 0.39522132 0.38956156 0.38276246 0.37511054\n",
            " 0.36689365 0.35835531 0.34968114 0.34100193 0.33240312 0.32393661\n",
            " 0.31563079 0.3074989  0.29954505 0.29176849 0.28416592 0.2767331\n",
            " 0.26946568 0.26235968 0.25541145 0.24861772]\n",
            "23 day output [[0.24197534]]\n",
            "24 day input [0.08456354 0.08542495 0.0833779  0.07981501 0.07788944 0.07472008\n",
            " 0.07437673 0.07829719 0.07898548 0.07787945 0.07853867 0.07837387\n",
            " 0.07792613 0.08946356 0.08353236 0.08076791 0.08332068 0.08668139\n",
            " 0.09312427 0.08545021 0.08957292 0.08938397 0.0925772  0.10866291\n",
            " 0.10281026 0.13608046 0.17275326 0.26201927 0.52388266 0.40878077\n",
            " 0.44710725 0.57313043 0.45853351 0.43031302 0.37880427 0.35275521\n",
            " 0.38626061 0.3626059  0.38131055 0.36933405 0.45061485 0.4107507\n",
            " 0.46682081 0.5523142  0.52695344 0.57535485 0.73868174 0.95061677\n",
            " 0.81858724 1.         0.92429568 0.82920817 0.65363927 0.7199162\n",
            " 0.60493524 0.70462256 0.82202611 0.74261078 0.74118379 0.7089748\n",
            " 0.69569205 0.48007426 0.57877879 0.5207813  0.49777509 0.44587108\n",
            " 0.53257586 0.50359589 0.51358339 0.486178   0.45299892 0.44071145\n",
            " 0.43923662 0.47386624 0.53865293 0.62103557 0.4052951  0.40267509\n",
            " 0.39955705 0.39522132 0.38956156 0.38276246 0.37511054 0.36689365\n",
            " 0.35835531 0.34968114 0.34100193 0.33240312 0.32393661 0.31563079\n",
            " 0.3074989  0.29954505 0.29176849 0.28416592 0.2767331  0.26946568\n",
            " 0.26235968 0.25541145 0.24861772 0.24197534]\n",
            "24 day output [[0.23548174]]\n",
            "25 day input [0.08542495 0.0833779  0.07981501 0.07788944 0.07472008 0.07437673\n",
            " 0.07829719 0.07898548 0.07787945 0.07853867 0.07837387 0.07792613\n",
            " 0.08946356 0.08353236 0.08076791 0.08332068 0.08668139 0.09312427\n",
            " 0.08545021 0.08957292 0.08938397 0.0925772  0.10866291 0.10281026\n",
            " 0.13608046 0.17275326 0.26201927 0.52388266 0.40878077 0.44710725\n",
            " 0.57313043 0.45853351 0.43031302 0.37880427 0.35275521 0.38626061\n",
            " 0.3626059  0.38131055 0.36933405 0.45061485 0.4107507  0.46682081\n",
            " 0.5523142  0.52695344 0.57535485 0.73868174 0.95061677 0.81858724\n",
            " 1.         0.92429568 0.82920817 0.65363927 0.7199162  0.60493524\n",
            " 0.70462256 0.82202611 0.74261078 0.74118379 0.7089748  0.69569205\n",
            " 0.48007426 0.57877879 0.5207813  0.49777509 0.44587108 0.53257586\n",
            " 0.50359589 0.51358339 0.486178   0.45299892 0.44071145 0.43923662\n",
            " 0.47386624 0.53865293 0.62103557 0.4052951  0.40267509 0.39955705\n",
            " 0.39522132 0.38956156 0.38276246 0.37511054 0.36689365 0.35835531\n",
            " 0.34968114 0.34100193 0.33240312 0.32393661 0.31563079 0.3074989\n",
            " 0.29954505 0.29176849 0.28416592 0.2767331  0.26946568 0.26235968\n",
            " 0.25541145 0.24861772 0.24197534 0.23548174]\n",
            "25 day output [[0.22913416]]\n",
            "26 day input [0.0833779  0.07981501 0.07788944 0.07472008 0.07437673 0.07829719\n",
            " 0.07898548 0.07787945 0.07853867 0.07837387 0.07792613 0.08946356\n",
            " 0.08353236 0.08076791 0.08332068 0.08668139 0.09312427 0.08545021\n",
            " 0.08957292 0.08938397 0.0925772  0.10866291 0.10281026 0.13608046\n",
            " 0.17275326 0.26201927 0.52388266 0.40878077 0.44710725 0.57313043\n",
            " 0.45853351 0.43031302 0.37880427 0.35275521 0.38626061 0.3626059\n",
            " 0.38131055 0.36933405 0.45061485 0.4107507  0.46682081 0.5523142\n",
            " 0.52695344 0.57535485 0.73868174 0.95061677 0.81858724 1.\n",
            " 0.92429568 0.82920817 0.65363927 0.7199162  0.60493524 0.70462256\n",
            " 0.82202611 0.74261078 0.74118379 0.7089748  0.69569205 0.48007426\n",
            " 0.57877879 0.5207813  0.49777509 0.44587108 0.53257586 0.50359589\n",
            " 0.51358339 0.486178   0.45299892 0.44071145 0.43923662 0.47386624\n",
            " 0.53865293 0.62103557 0.4052951  0.40267509 0.39955705 0.39522132\n",
            " 0.38956156 0.38276246 0.37511054 0.36689365 0.35835531 0.34968114\n",
            " 0.34100193 0.33240312 0.32393661 0.31563079 0.3074989  0.29954505\n",
            " 0.29176849 0.28416592 0.2767331  0.26946568 0.26235968 0.25541145\n",
            " 0.24861772 0.24197534 0.23548174 0.22913416]\n",
            "26 day output [[0.22293006]]\n",
            "27 day input [0.07981501 0.07788944 0.07472008 0.07437673 0.07829719 0.07898548\n",
            " 0.07787945 0.07853867 0.07837387 0.07792613 0.08946356 0.08353236\n",
            " 0.08076791 0.08332068 0.08668139 0.09312427 0.08545021 0.08957292\n",
            " 0.08938397 0.0925772  0.10866291 0.10281026 0.13608046 0.17275326\n",
            " 0.26201927 0.52388266 0.40878077 0.44710725 0.57313043 0.45853351\n",
            " 0.43031302 0.37880427 0.35275521 0.38626061 0.3626059  0.38131055\n",
            " 0.36933405 0.45061485 0.4107507  0.46682081 0.5523142  0.52695344\n",
            " 0.57535485 0.73868174 0.95061677 0.81858724 1.         0.92429568\n",
            " 0.82920817 0.65363927 0.7199162  0.60493524 0.70462256 0.82202611\n",
            " 0.74261078 0.74118379 0.7089748  0.69569205 0.48007426 0.57877879\n",
            " 0.5207813  0.49777509 0.44587108 0.53257586 0.50359589 0.51358339\n",
            " 0.486178   0.45299892 0.44071145 0.43923662 0.47386624 0.53865293\n",
            " 0.62103557 0.4052951  0.40267509 0.39955705 0.39522132 0.38956156\n",
            " 0.38276246 0.37511054 0.36689365 0.35835531 0.34968114 0.34100193\n",
            " 0.33240312 0.32393661 0.31563079 0.3074989  0.29954505 0.29176849\n",
            " 0.28416592 0.2767331  0.26946568 0.26235968 0.25541145 0.24861772\n",
            " 0.24197534 0.23548174 0.22913416 0.22293006]\n",
            "27 day output [[0.21686715]]\n",
            "28 day input [0.07788944 0.07472008 0.07437673 0.07829719 0.07898548 0.07787945\n",
            " 0.07853867 0.07837387 0.07792613 0.08946356 0.08353236 0.08076791\n",
            " 0.08332068 0.08668139 0.09312427 0.08545021 0.08957292 0.08938397\n",
            " 0.0925772  0.10866291 0.10281026 0.13608046 0.17275326 0.26201927\n",
            " 0.52388266 0.40878077 0.44710725 0.57313043 0.45853351 0.43031302\n",
            " 0.37880427 0.35275521 0.38626061 0.3626059  0.38131055 0.36933405\n",
            " 0.45061485 0.4107507  0.46682081 0.5523142  0.52695344 0.57535485\n",
            " 0.73868174 0.95061677 0.81858724 1.         0.92429568 0.82920817\n",
            " 0.65363927 0.7199162  0.60493524 0.70462256 0.82202611 0.74261078\n",
            " 0.74118379 0.7089748  0.69569205 0.48007426 0.57877879 0.5207813\n",
            " 0.49777509 0.44587108 0.53257586 0.50359589 0.51358339 0.486178\n",
            " 0.45299892 0.44071145 0.43923662 0.47386624 0.53865293 0.62103557\n",
            " 0.4052951  0.40267509 0.39955705 0.39522132 0.38956156 0.38276246\n",
            " 0.37511054 0.36689365 0.35835531 0.34968114 0.34100193 0.33240312\n",
            " 0.32393661 0.31563079 0.3074989  0.29954505 0.29176849 0.28416592\n",
            " 0.2767331  0.26946568 0.26235968 0.25541145 0.24861772 0.24197534\n",
            " 0.23548174 0.22913416 0.22293006 0.21686715]\n",
            "28 day output [[0.21094295]]\n",
            "29 day input [0.07472008 0.07437673 0.07829719 0.07898548 0.07787945 0.07853867\n",
            " 0.07837387 0.07792613 0.08946356 0.08353236 0.08076791 0.08332068\n",
            " 0.08668139 0.09312427 0.08545021 0.08957292 0.08938397 0.0925772\n",
            " 0.10866291 0.10281026 0.13608046 0.17275326 0.26201927 0.52388266\n",
            " 0.40878077 0.44710725 0.57313043 0.45853351 0.43031302 0.37880427\n",
            " 0.35275521 0.38626061 0.3626059  0.38131055 0.36933405 0.45061485\n",
            " 0.4107507  0.46682081 0.5523142  0.52695344 0.57535485 0.73868174\n",
            " 0.95061677 0.81858724 1.         0.92429568 0.82920817 0.65363927\n",
            " 0.7199162  0.60493524 0.70462256 0.82202611 0.74261078 0.74118379\n",
            " 0.7089748  0.69569205 0.48007426 0.57877879 0.5207813  0.49777509\n",
            " 0.44587108 0.53257586 0.50359589 0.51358339 0.486178   0.45299892\n",
            " 0.44071145 0.43923662 0.47386624 0.53865293 0.62103557 0.4052951\n",
            " 0.40267509 0.39955705 0.39522132 0.38956156 0.38276246 0.37511054\n",
            " 0.36689365 0.35835531 0.34968114 0.34100193 0.33240312 0.32393661\n",
            " 0.31563079 0.3074989  0.29954505 0.29176849 0.28416592 0.2767331\n",
            " 0.26946568 0.26235968 0.25541145 0.24861772 0.24197534 0.23548174\n",
            " 0.22913416 0.22293006 0.21686715 0.21094295]\n",
            "29 day output [[0.20515504]]\n",
            "[[0.40529510378837585], [0.4026750922203064], [0.39955705404281616], [0.3952213227748871], [0.38956156373023987], [0.38276246190071106], [0.37511053681373596], [0.3668936491012573], [0.358355313539505], [0.34968113899230957], [0.3410019278526306], [0.33240312337875366], [0.3239366114139557], [0.31563079357147217], [0.30749890208244324], [0.2995450496673584], [0.29176849126815796], [0.2841659188270569], [0.2767331004142761], [0.26946568489074707], [0.2623596787452698], [0.25541144609451294], [0.2486177235841751], [0.241975337266922], [0.23548173904418945], [0.22913415729999542], [0.22293005883693695], [0.21686714887619019], [0.21094295382499695], [0.20515504479408264]]\n"
          ],
          "name": "stdout"
        }
      ]
    },
    {
      "cell_type": "markdown",
      "metadata": {
        "id": "9EBid42Mcnx4"
      },
      "source": [
        "## plotting"
      ]
    },
    {
      "cell_type": "code",
      "metadata": {
        "id": "V2ZQSar4Wv5H"
      },
      "source": [
        "day_new=np.arange(1,n_steps+1)\n",
        "day_pred=np.arange(n_steps,n_steps+days)"
      ],
      "execution_count": null,
      "outputs": []
    },
    {
      "cell_type": "code",
      "metadata": {
        "colab": {
          "base_uri": "https://localhost:8080/",
          "height": 282
        },
        "id": "7bapFX_ogQQd",
        "outputId": "cdf1212a-fc0c-4168-e32a-c20b025f29b7"
      },
      "source": [
        "plt.plot(day_new,scaler.inverse_transform(df1[1418:]))\n",
        "plt.plot(day_pred,scaler.inverse_transform(lst_output))"
      ],
      "execution_count": null,
      "outputs": [
        {
          "output_type": "execute_result",
          "data": {
            "text/plain": [
              "[<matplotlib.lines.Line2D at 0x7fdd2ad01410>]"
            ]
          },
          "metadata": {
            "tags": []
          },
          "execution_count": 151
        },
        {
          "output_type": "display_data",
          "data": {
            "image/png": "[encoded data removed]",
            "text/plain": [
              "<Figure size 432x288 with 1 Axes>"
            ]
          },
          "metadata": {
            "tags": [],
            "needs_background": "light"
          }
        }
      ]
    },
    {
      "cell_type": "code",
      "metadata": {
        "colab": {
          "base_uri": "https://localhost:8080/",
          "height": 282
        },
        "id": "tZ2b8aGzgdyH",
        "outputId": "f3ea9bab-8fa7-4c71-f9a2-778b11f91474"
      },
      "source": [
        "df3=df1.tolist()\n",
        "df3.extend(lst_output)\n",
        "plt.plot(df3[1200:])"
      ],
      "execution_count": null,
      "outputs": [
        {
          "output_type": "execute_result",
          "data": {
            "text/plain": [
              "[<matplotlib.lines.Line2D at 0x7fdd2aa122d0>]"
            ]
          },
          "metadata": {
            "tags": []
          },
          "execution_count": 152
        },
        {
          "output_type": "display_data",
          "data": {
            "image/png": "[encoded data removed]",
            "text/plain": [
              "<Figure size 432x288 with 1 Axes>"
            ]
          },
          "metadata": {
            "tags": [],
            "needs_background": "light"
          }
        }
      ]
    },
    {
      "cell_type": "code",
      "metadata": {
        "id": "03PuXEzkggqV"
      },
      "source": [
        "df3=scaler.inverse_transform(df3).tolist()"
      ],
      "execution_count": null,
      "outputs": []
    },
    {
      "cell_type": "code",
      "metadata": {
        "colab": {
          "base_uri": "https://localhost:8080/",
          "height": 282
        },
        "id": "5dbfQ-G6dpPl",
        "outputId": "1ff47de2-3f4a-4a83-b8d5-ed68ba0f992c"
      },
      "source": [
        "plt.plot(df3)"
      ],
      "execution_count": null,
      "outputs": [
        {
          "output_type": "execute_result",
          "data": {
            "text/plain": [
              "[<matplotlib.lines.Line2D at 0x7fdd2a993990>]"
            ]
          },
          "metadata": {
            "tags": []
          },
          "execution_count": 154
        },
        {
          "output_type": "display_data",
          "data": {
            "image/png": "[encoded data removed]",
            "text/plain": [
              "<Figure size 432x288 with 1 Axes>"
            ]
          },
          "metadata": {
            "tags": [],
            "needs_background": "light"
          }
        }
      ]
    },
    {
      "cell_type": "code",
      "metadata": {
        "id": "cNDgTDOndrJB"
      },
      "source": [
        ""
      ],
      "execution_count": null,
      "outputs": []
    }
  ]
}